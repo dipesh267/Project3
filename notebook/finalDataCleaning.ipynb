{
 "cells": [
  {
   "cell_type": "code",
   "execution_count": 1,
   "metadata": {},
   "outputs": [],
   "source": [
    "import os\n",
    "import pandas as pd\n",
    "from pandas import DataFrame\n",
    "from datetime import datetime as dt\n"
   ]
  },
  {
   "cell_type": "code",
   "execution_count": 2,
   "metadata": {
    "scrolled": true
   },
   "outputs": [
    {
     "data": {
      "text/html": [
       "<div>\n",
       "<style scoped>\n",
       "    .dataframe tbody tr th:only-of-type {\n",
       "        vertical-align: middle;\n",
       "    }\n",
       "\n",
       "    .dataframe tbody tr th {\n",
       "        vertical-align: top;\n",
       "    }\n",
       "\n",
       "    .dataframe thead th {\n",
       "        text-align: right;\n",
       "    }\n",
       "</style>\n",
       "<table border=\"1\" class=\"dataframe\">\n",
       "  <thead>\n",
       "    <tr style=\"text-align: right;\">\n",
       "      <th></th>\n",
       "      <th>abbr</th>\n",
       "      <th>datetime</th>\n",
       "      <th>model</th>\n",
       "      <th>mw</th>\n",
       "      <th>predicted</th>\n",
       "    </tr>\n",
       "  </thead>\n",
       "  <tbody>\n",
       "    <tr>\n",
       "      <th>0</th>\n",
       "      <td>AZPS</td>\n",
       "      <td>2018-10-06 00:00:00</td>\n",
       "      <td>LinearRegression(copy_X=True, fit_intercept=Tr...</td>\n",
       "      <td>2911.0</td>\n",
       "      <td>2902.479137</td>\n",
       "    </tr>\n",
       "    <tr>\n",
       "      <th>1</th>\n",
       "      <td>AZPS</td>\n",
       "      <td>2018-10-05 00:00:00</td>\n",
       "      <td>LinearRegression(copy_X=True, fit_intercept=Tr...</td>\n",
       "      <td>3026.0</td>\n",
       "      <td>2950.657327</td>\n",
       "    </tr>\n",
       "    <tr>\n",
       "      <th>2</th>\n",
       "      <td>AZPS</td>\n",
       "      <td>2018-10-04 00:00:00</td>\n",
       "      <td>LinearRegression(copy_X=True, fit_intercept=Tr...</td>\n",
       "      <td>3233.0</td>\n",
       "      <td>3221.672411</td>\n",
       "    </tr>\n",
       "    <tr>\n",
       "      <th>3</th>\n",
       "      <td>AZPS</td>\n",
       "      <td>2018-10-03 00:00:00</td>\n",
       "      <td>LinearRegression(copy_X=True, fit_intercept=Tr...</td>\n",
       "      <td>3057.0</td>\n",
       "      <td>3356.335499</td>\n",
       "    </tr>\n",
       "    <tr>\n",
       "      <th>4</th>\n",
       "      <td>AZPS</td>\n",
       "      <td>2018-10-02 00:00:00</td>\n",
       "      <td>LinearRegression(copy_X=True, fit_intercept=Tr...</td>\n",
       "      <td>3131.0</td>\n",
       "      <td>3049.651221</td>\n",
       "    </tr>\n",
       "  </tbody>\n",
       "</table>\n",
       "</div>"
      ],
      "text/plain": [
       "   abbr             datetime  \\\n",
       "0  AZPS  2018-10-06 00:00:00   \n",
       "1  AZPS  2018-10-05 00:00:00   \n",
       "2  AZPS  2018-10-04 00:00:00   \n",
       "3  AZPS  2018-10-03 00:00:00   \n",
       "4  AZPS  2018-10-02 00:00:00   \n",
       "\n",
       "                                               model      mw    predicted  \n",
       "0  LinearRegression(copy_X=True, fit_intercept=Tr...  2911.0  2902.479137  \n",
       "1  LinearRegression(copy_X=True, fit_intercept=Tr...  3026.0  2950.657327  \n",
       "2  LinearRegression(copy_X=True, fit_intercept=Tr...  3233.0  3221.672411  \n",
       "3  LinearRegression(copy_X=True, fit_intercept=Tr...  3057.0  3356.335499  \n",
       "4  LinearRegression(copy_X=True, fit_intercept=Tr...  3131.0  3049.651221  "
      ]
     },
     "execution_count": 2,
     "metadata": {},
     "output_type": "execute_result"
    }
   ],
   "source": [
    "actual_file = os.path.join('../Data','Modeling_results_predicted_v_actuals.csv')\n",
    "actual_df = pd.read_csv(actual_file, encoding=\"ISO-8859-1\")\n",
    "del actual_df['Unnamed: 0']\n",
    "actual_df.head()"
   ]
  },
  {
   "cell_type": "code",
   "execution_count": 7,
   "metadata": {},
   "outputs": [
    {
     "name": "stdout",
     "output_type": "stream",
     "text": [
      "abbr         3255681\n",
      "datetime     3255681\n",
      "model        3255681\n",
      "mw           3255681\n",
      "predicted    3255681\n",
      "dtype: int64\n",
      "{'abbr': 'AZPS', 'datetime': '2018-10-06 00:00:00', 'model_name': 'LinearRegression', 'mw': 2911.0, 'predicted': 2902.479137222898}\n"
     ]
    }
   ],
   "source": [
    "mylist = []\n",
    "print(actual_df.count())\n",
    "for index, row in actual_df.iterrows():\n",
    "    myDict = {\n",
    "        'abbr': row['abbr'],\n",
    "        'datetime': row['datetime'],\n",
    "        'model_name' : row['model'].split('(')[0],\n",
    "        'mw' : row['mw'],\n",
    "        'predicted': row['predicted']\n",
    "    }\n",
    "    mylist.append(myDict)\n",
    "\n",
    "print(mylist[0])\n",
    "    "
   ]
  },
  {
   "cell_type": "code",
   "execution_count": 8,
   "metadata": {},
   "outputs": [
    {
     "data": {
      "text/html": [
       "<div>\n",
       "<style scoped>\n",
       "    .dataframe tbody tr th:only-of-type {\n",
       "        vertical-align: middle;\n",
       "    }\n",
       "\n",
       "    .dataframe tbody tr th {\n",
       "        vertical-align: top;\n",
       "    }\n",
       "\n",
       "    .dataframe thead th {\n",
       "        text-align: right;\n",
       "    }\n",
       "</style>\n",
       "<table border=\"1\" class=\"dataframe\">\n",
       "  <thead>\n",
       "    <tr style=\"text-align: right;\">\n",
       "      <th></th>\n",
       "      <th>abbr</th>\n",
       "      <th>datetime</th>\n",
       "      <th>model_name</th>\n",
       "      <th>mw</th>\n",
       "      <th>predicted</th>\n",
       "    </tr>\n",
       "  </thead>\n",
       "  <tbody>\n",
       "    <tr>\n",
       "      <th>0</th>\n",
       "      <td>AZPS</td>\n",
       "      <td>2018-10-06 00:00:00</td>\n",
       "      <td>LinearRegression</td>\n",
       "      <td>2911.0</td>\n",
       "      <td>2902.479137</td>\n",
       "    </tr>\n",
       "    <tr>\n",
       "      <th>1</th>\n",
       "      <td>AZPS</td>\n",
       "      <td>2018-10-05 00:00:00</td>\n",
       "      <td>LinearRegression</td>\n",
       "      <td>3026.0</td>\n",
       "      <td>2950.657327</td>\n",
       "    </tr>\n",
       "    <tr>\n",
       "      <th>2</th>\n",
       "      <td>AZPS</td>\n",
       "      <td>2018-10-04 00:00:00</td>\n",
       "      <td>LinearRegression</td>\n",
       "      <td>3233.0</td>\n",
       "      <td>3221.672411</td>\n",
       "    </tr>\n",
       "    <tr>\n",
       "      <th>3</th>\n",
       "      <td>AZPS</td>\n",
       "      <td>2018-10-03 00:00:00</td>\n",
       "      <td>LinearRegression</td>\n",
       "      <td>3057.0</td>\n",
       "      <td>3356.335499</td>\n",
       "    </tr>\n",
       "    <tr>\n",
       "      <th>4</th>\n",
       "      <td>AZPS</td>\n",
       "      <td>2018-10-02 00:00:00</td>\n",
       "      <td>LinearRegression</td>\n",
       "      <td>3131.0</td>\n",
       "      <td>3049.651221</td>\n",
       "    </tr>\n",
       "  </tbody>\n",
       "</table>\n",
       "</div>"
      ],
      "text/plain": [
       "   abbr             datetime        model_name      mw    predicted\n",
       "0  AZPS  2018-10-06 00:00:00  LinearRegression  2911.0  2902.479137\n",
       "1  AZPS  2018-10-05 00:00:00  LinearRegression  3026.0  2950.657327\n",
       "2  AZPS  2018-10-04 00:00:00  LinearRegression  3233.0  3221.672411\n",
       "3  AZPS  2018-10-03 00:00:00  LinearRegression  3057.0  3356.335499\n",
       "4  AZPS  2018-10-02 00:00:00  LinearRegression  3131.0  3049.651221"
      ]
     },
     "execution_count": 8,
     "metadata": {},
     "output_type": "execute_result"
    }
   ],
   "source": [
    "mydf = pd.DataFrame(mylist) \n",
    "mydf.head()"
   ]
  },
  {
   "cell_type": "code",
   "execution_count": 9,
   "metadata": {},
   "outputs": [],
   "source": [
    "mydf.to_csv('final_results.csv')"
   ]
  }
 ],
 "metadata": {
  "kernelspec": {
   "display_name": "Python 3",
   "language": "python",
   "name": "python3"
  },
  "language_info": {
   "codemirror_mode": {
    "name": "ipython",
    "version": 3
   },
   "file_extension": ".py",
   "mimetype": "text/x-python",
   "name": "python",
   "nbconvert_exporter": "python",
   "pygments_lexer": "ipython3",
   "version": "3.6.4"
  }
 },
 "nbformat": 4,
 "nbformat_minor": 2
}
