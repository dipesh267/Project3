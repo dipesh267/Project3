{
 "cells": [
  {
   "cell_type": "code",
   "execution_count": 1,
   "metadata": {},
   "outputs": [],
   "source": [
    "# Dependencies\n",
    "import requests\n",
    "import os\n",
    "import numpy as np\n",
    "import pandas as pd\n",
    "from pprint import pprint\n",
    "import urllib.request  \n",
    "from datetime import datetime"
   ]
  },
  {
   "cell_type": "code",
   "execution_count": 9,
   "metadata": {
    "scrolled": false
   },
   "outputs": [],
   "source": [
    "stations = ['AZPS']\n",
    "responses = []\n",
    "grid_df = pd.DataFrame()\n",
    "for station in stations:\n",
    "    url = \"http://api.eia.gov/series/?api_key=b2416f9351f1bc487d7de96e1a731aab&series_id=EBA.\"+station+\"-ALL.D.H\"\n",
    "    api_call = requests.get(url)\n",
    "    responses.append(api_call.json())\n",
    "\n"
   ]
  },
  {
   "cell_type": "code",
   "execution_count": 10,
   "metadata": {},
   "outputs": [
    {
     "data": {
      "text/html": [
       "<div>\n",
       "<style scoped>\n",
       "    .dataframe tbody tr th:only-of-type {\n",
       "        vertical-align: middle;\n",
       "    }\n",
       "\n",
       "    .dataframe tbody tr th {\n",
       "        vertical-align: top;\n",
       "    }\n",
       "\n",
       "    .dataframe thead th {\n",
       "        text-align: right;\n",
       "    }\n",
       "</style>\n",
       "<table border=\"1\" class=\"dataframe\">\n",
       "  <thead>\n",
       "    <tr style=\"text-align: right;\">\n",
       "      <th></th>\n",
       "      <th>date</th>\n",
       "      <th>gw</th>\n",
       "      <th>name</th>\n",
       "    </tr>\n",
       "  </thead>\n",
       "  <tbody>\n",
       "    <tr>\n",
       "      <th>0</th>\n",
       "      <td>20181016T21Z</td>\n",
       "      <td>2511.0</td>\n",
       "      <td>AZPS</td>\n",
       "    </tr>\n",
       "    <tr>\n",
       "      <th>1</th>\n",
       "      <td>20181016T20Z</td>\n",
       "      <td>2506.0</td>\n",
       "      <td>AZPS</td>\n",
       "    </tr>\n",
       "    <tr>\n",
       "      <th>2</th>\n",
       "      <td>20181016T19Z</td>\n",
       "      <td>2546.0</td>\n",
       "      <td>AZPS</td>\n",
       "    </tr>\n",
       "    <tr>\n",
       "      <th>3</th>\n",
       "      <td>20181016T18Z</td>\n",
       "      <td>2578.0</td>\n",
       "      <td>AZPS</td>\n",
       "    </tr>\n",
       "    <tr>\n",
       "      <th>4</th>\n",
       "      <td>20181016T17Z</td>\n",
       "      <td>2651.0</td>\n",
       "      <td>AZPS</td>\n",
       "    </tr>\n",
       "  </tbody>\n",
       "</table>\n",
       "</div>"
      ],
      "text/plain": [
       "           date      gw  name\n",
       "0  20181016T21Z  2511.0  AZPS\n",
       "1  20181016T20Z  2506.0  AZPS\n",
       "2  20181016T19Z  2546.0  AZPS\n",
       "3  20181016T18Z  2578.0  AZPS\n",
       "4  20181016T17Z  2651.0  AZPS"
      ]
     },
     "execution_count": 10,
     "metadata": {},
     "output_type": "execute_result"
    }
   ],
   "source": [
    "name_list = []\n",
    "date_list = []\n",
    "mg_list = []\n",
    "    \n",
    "for response in responses:\n",
    "    name = response['series'][0]['series_id'] #name is format blah.name-blah.blah.blah\n",
    "    names = name.split('-')  #names is ['blah.name','blah.blah.blah']\n",
    "    name = names[0].split('.')[1] \n",
    "    demand_list = response['series'][0]['data']\n",
    "    for demand in demand_list:\n",
    "        if demand[0] != '' and demand[1] != '':\n",
    "            name_list.append(name)\n",
    "            date_list.append(demand[0])\n",
    "            mg_list.append(demand[1])\n",
    "\n",
    "grid_df = pd.DataFrame({\n",
    "    'name': name_list,\n",
    "    'date': date_list,\n",
    "    'gw': mg_list\n",
    "})\n",
    "\n",
    "grid_df.head()"
   ]
  },
  {
   "cell_type": "code",
   "execution_count": 11,
   "metadata": {},
   "outputs": [],
   "source": [
    "grid_df['date'] = pd.to_datetime(grid_df['date'])"
   ]
  },
  {
   "cell_type": "code",
   "execution_count": 12,
   "metadata": {},
   "outputs": [
    {
     "data": {
      "text/html": [
       "<div>\n",
       "<style scoped>\n",
       "    .dataframe tbody tr th:only-of-type {\n",
       "        vertical-align: middle;\n",
       "    }\n",
       "\n",
       "    .dataframe tbody tr th {\n",
       "        vertical-align: top;\n",
       "    }\n",
       "\n",
       "    .dataframe thead th {\n",
       "        text-align: right;\n",
       "    }\n",
       "</style>\n",
       "<table border=\"1\" class=\"dataframe\">\n",
       "  <thead>\n",
       "    <tr style=\"text-align: right;\">\n",
       "      <th></th>\n",
       "      <th>date</th>\n",
       "      <th>gw</th>\n",
       "      <th>name</th>\n",
       "    </tr>\n",
       "  </thead>\n",
       "  <tbody>\n",
       "    <tr>\n",
       "      <th>0</th>\n",
       "      <td>2018-10-16 21:00:00</td>\n",
       "      <td>2511.0</td>\n",
       "      <td>AZPS</td>\n",
       "    </tr>\n",
       "    <tr>\n",
       "      <th>1</th>\n",
       "      <td>2018-10-16 20:00:00</td>\n",
       "      <td>2506.0</td>\n",
       "      <td>AZPS</td>\n",
       "    </tr>\n",
       "    <tr>\n",
       "      <th>2</th>\n",
       "      <td>2018-10-16 19:00:00</td>\n",
       "      <td>2546.0</td>\n",
       "      <td>AZPS</td>\n",
       "    </tr>\n",
       "    <tr>\n",
       "      <th>3</th>\n",
       "      <td>2018-10-16 18:00:00</td>\n",
       "      <td>2578.0</td>\n",
       "      <td>AZPS</td>\n",
       "    </tr>\n",
       "    <tr>\n",
       "      <th>4</th>\n",
       "      <td>2018-10-16 17:00:00</td>\n",
       "      <td>2651.0</td>\n",
       "      <td>AZPS</td>\n",
       "    </tr>\n",
       "  </tbody>\n",
       "</table>\n",
       "</div>"
      ],
      "text/plain": [
       "                 date      gw  name\n",
       "0 2018-10-16 21:00:00  2511.0  AZPS\n",
       "1 2018-10-16 20:00:00  2506.0  AZPS\n",
       "2 2018-10-16 19:00:00  2546.0  AZPS\n",
       "3 2018-10-16 18:00:00  2578.0  AZPS\n",
       "4 2018-10-16 17:00:00  2651.0  AZPS"
      ]
     },
     "execution_count": 12,
     "metadata": {},
     "output_type": "execute_result"
    }
   ],
   "source": [
    "grid_df.head()"
   ]
  },
  {
   "cell_type": "code",
   "execution_count": 10,
   "metadata": {},
   "outputs": [
    {
     "data": {
      "text/html": [
       "<div>\n",
       "<style scoped>\n",
       "    .dataframe tbody tr th:only-of-type {\n",
       "        vertical-align: middle;\n",
       "    }\n",
       "\n",
       "    .dataframe tbody tr th {\n",
       "        vertical-align: top;\n",
       "    }\n",
       "\n",
       "    .dataframe thead th {\n",
       "        text-align: right;\n",
       "    }\n",
       "</style>\n",
       "<table border=\"1\" class=\"dataframe\">\n",
       "  <thead>\n",
       "    <tr style=\"text-align: right;\">\n",
       "      <th></th>\n",
       "      <th>ABBR</th>\n",
       "      <th>ID1</th>\n",
       "      <th>ID2</th>\n",
       "      <th>ID3</th>\n",
       "      <th>ID4</th>\n",
       "      <th>ID5</th>\n",
       "    </tr>\n",
       "  </thead>\n",
       "  <tbody>\n",
       "    <tr>\n",
       "      <th>0</th>\n",
       "      <td>AZPS</td>\n",
       "      <td>723740-23194</td>\n",
       "      <td>722747-93084</td>\n",
       "      <td>722740-23160</td>\n",
       "      <td>723788-53135</td>\n",
       "      <td>723860-23169</td>\n",
       "    </tr>\n",
       "    <tr>\n",
       "      <th>1</th>\n",
       "      <td>AECI</td>\n",
       "      <td>724400-13995</td>\n",
       "      <td>724457-3938</td>\n",
       "      <td>723495-13987</td>\n",
       "      <td>724450-3945</td>\n",
       "      <td>724460-3947</td>\n",
       "    </tr>\n",
       "    <tr>\n",
       "      <th>2</th>\n",
       "      <td>AVA</td>\n",
       "      <td>727850-24157</td>\n",
       "      <td>727730-24153</td>\n",
       "      <td>727790-24146</td>\n",
       "      <td>726876-387</td>\n",
       "      <td>727720-24144</td>\n",
       "    </tr>\n",
       "    <tr>\n",
       "      <th>3</th>\n",
       "      <td>BANC</td>\n",
       "      <td>720614-205</td>\n",
       "      <td>724880-23185</td>\n",
       "      <td>724940-23234</td>\n",
       "      <td>723890-93193</td>\n",
       "      <td>726904-24231</td>\n",
       "    </tr>\n",
       "    <tr>\n",
       "      <th>4</th>\n",
       "      <td>BPAT</td>\n",
       "      <td>726876-387</td>\n",
       "      <td>727850-24157</td>\n",
       "      <td>727730-24153</td>\n",
       "      <td>726980-24229</td>\n",
       "      <td>725780-24156</td>\n",
       "    </tr>\n",
       "  </tbody>\n",
       "</table>\n",
       "</div>"
      ],
      "text/plain": [
       "   ABBR           ID1           ID2           ID3           ID4           ID5\n",
       "0  AZPS  723740-23194  722747-93084  722740-23160  723788-53135  723860-23169\n",
       "1  AECI  724400-13995   724457-3938  723495-13987   724450-3945   724460-3947\n",
       "2   AVA  727850-24157  727730-24153  727790-24146    726876-387  727720-24144\n",
       "3  BANC    720614-205  724880-23185  724940-23234  723890-93193  726904-24231\n",
       "4  BPAT    726876-387  727850-24157  727730-24153  726980-24229  725780-24156"
      ]
     },
     "execution_count": 10,
     "metadata": {},
     "output_type": "execute_result"
    }
   ],
   "source": [
    "weather_file = os.path.join('../Data','closestStations.csv')\n",
    "weather_df = pd.read_csv(weather_file, encoding=\"ISO-8859-1\")\n",
    "weather_df.head()"
   ]
  },
  {
   "cell_type": "code",
   "execution_count": 11,
   "metadata": {},
   "outputs": [
    {
     "ename": "SyntaxError",
     "evalue": "invalid syntax (<ipython-input-11-37b2b90a1674>, line 3)",
     "output_type": "error",
     "traceback": [
      "\u001b[0;36m  File \u001b[0;32m\"<ipython-input-11-37b2b90a1674>\"\u001b[0;36m, line \u001b[0;32m3\u001b[0m\n\u001b[0;31m    if !(row['ID1'] in st_data_fetch):\u001b[0m\n\u001b[0m       ^\u001b[0m\n\u001b[0;31mSyntaxError\u001b[0m\u001b[0;31m:\u001b[0m invalid syntax\n"
     ]
    }
   ],
   "source": [
    "st_data_fetch = []\n",
    "for index, row in weather_df.iterrows():\n",
    "    if not(row['ID1'] in st_data_fetch):\n",
    "        st_data_fetch.append(row['ID1'])\n",
    "    if not(row['ID2'] in st_data_fetch):\n",
    "        st_data_fetch.append(row['ID2'])\n",
    "    if not(row['ID3'] in st_data_fetch):\n",
    "        st_data_fetch.append(row['ID3'])\n",
    "    if not(row['ID1'] in st_data_fetch):\n",
    "        st_data_fetch.append(row['ID4'])\n",
    "    if not(row['ID1'] in st_data_fetch):\n",
    "        st_data_fetch.append(row['ID5'])\n",
    "    \n",
    "print(st_data_fetch)"
   ]
  },
  {
   "cell_type": "code",
   "execution_count": null,
   "metadata": {},
   "outputs": [],
   "source": [
    "elem in LIST"
   ]
  }
 ],
 "metadata": {
  "kernelspec": {
   "display_name": "Python 3",
   "language": "python",
   "name": "python3"
  },
  "language_info": {
   "codemirror_mode": {
    "name": "ipython",
    "version": 3
   },
   "file_extension": ".py",
   "mimetype": "text/x-python",
   "name": "python",
   "nbconvert_exporter": "python",
   "pygments_lexer": "ipython3",
   "version": "3.6.4"
  }
 },
 "nbformat": 4,
 "nbformat_minor": 2
}
