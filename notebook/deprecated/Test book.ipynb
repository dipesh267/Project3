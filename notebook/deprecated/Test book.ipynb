{
 "cells": [
  {
   "cell_type": "code",
   "execution_count": 1,
   "metadata": {},
   "outputs": [],
   "source": [
    "# Dependencies\n",
    "import requests\n",
    "import pandas as pd\n",
    "from pprint import pprint\n",
    "\n",
    "from datetime import datetime"
   ]
  },
  {
   "cell_type": "code",
   "execution_count": 2,
   "metadata": {
    "scrolled": false
   },
   "outputs": [],
   "source": [
    "stations = ['AZPS']\n",
    "responses = []\n",
    "grid_df = pd.DataFrame()\n",
    "for station in stations:\n",
    "    url = \"http://api.eia.gov/series/?api_key=b2416f9351f1bc487d7de96e1a731aab&series_id=EBA.\"+station+\"-ALL.D.H\"\n",
    "    api_call = requests.get(url)\n",
    "    responses.append(api_call.json())\n",
    "\n"
   ]
  },
  {
   "cell_type": "code",
   "execution_count": 3,
   "metadata": {},
   "outputs": [
    {
     "data": {
      "text/html": [
       "<div>\n",
       "<style scoped>\n",
       "    .dataframe tbody tr th:only-of-type {\n",
       "        vertical-align: middle;\n",
       "    }\n",
       "\n",
       "    .dataframe tbody tr th {\n",
       "        vertical-align: top;\n",
       "    }\n",
       "\n",
       "    .dataframe thead th {\n",
       "        text-align: right;\n",
       "    }\n",
       "</style>\n",
       "<table border=\"1\" class=\"dataframe\">\n",
       "  <thead>\n",
       "    <tr style=\"text-align: right;\">\n",
       "      <th></th>\n",
       "      <th>date</th>\n",
       "      <th>gw</th>\n",
       "      <th>name</th>\n",
       "    </tr>\n",
       "  </thead>\n",
       "  <tbody>\n",
       "    <tr>\n",
       "      <th>0</th>\n",
       "      <td>20181017T03Z</td>\n",
       "      <td>3024.0</td>\n",
       "      <td>AZPS</td>\n",
       "    </tr>\n",
       "    <tr>\n",
       "      <th>1</th>\n",
       "      <td>20181017T02Z</td>\n",
       "      <td>3065.0</td>\n",
       "      <td>AZPS</td>\n",
       "    </tr>\n",
       "    <tr>\n",
       "      <th>2</th>\n",
       "      <td>20181017T01Z</td>\n",
       "      <td>2905.0</td>\n",
       "      <td>AZPS</td>\n",
       "    </tr>\n",
       "    <tr>\n",
       "      <th>3</th>\n",
       "      <td>20181017T00Z</td>\n",
       "      <td>2731.0</td>\n",
       "      <td>AZPS</td>\n",
       "    </tr>\n",
       "    <tr>\n",
       "      <th>4</th>\n",
       "      <td>20181016T23Z</td>\n",
       "      <td>2592.0</td>\n",
       "      <td>AZPS</td>\n",
       "    </tr>\n",
       "  </tbody>\n",
       "</table>\n",
       "</div>"
      ],
      "text/plain": [
       "           date      gw  name\n",
       "0  20181017T03Z  3024.0  AZPS\n",
       "1  20181017T02Z  3065.0  AZPS\n",
       "2  20181017T01Z  2905.0  AZPS\n",
       "3  20181017T00Z  2731.0  AZPS\n",
       "4  20181016T23Z  2592.0  AZPS"
      ]
     },
     "execution_count": 3,
     "metadata": {},
     "output_type": "execute_result"
    }
   ],
   "source": [
    "name_list = []\n",
    "date_list = []\n",
    "mg_list = []\n",
    "    \n",
    "for response in responses:\n",
    "    name = response['series'][0]['series_id'] #name is format blah.name-blah.blah.blah\n",
    "    names = name.split('-')  #names is ['blah.name','blah.blah.blah']\n",
    "    name = names[0].split('.')[1] \n",
    "    demand_list = response['series'][0]['data']\n",
    "    for demand in demand_list:\n",
    "        if demand[0] != '' and demand[1] != '':\n",
    "            name_list.append(name)\n",
    "            date_list.append(demand[0])\n",
    "            mg_list.append(demand[1])\n",
    "\n",
    "grid_df = pd.DataFrame({\n",
    "    'name': name_list,\n",
    "    'date': date_list,\n",
    "    'gw': mg_list\n",
    "})\n",
    "\n",
    "grid_df.head()"
   ]
  },
  {
   "cell_type": "code",
   "execution_count": 4,
   "metadata": {},
   "outputs": [],
   "source": [
    "grid_df['date'] = pd.to_datetime(grid_df['date'])"
   ]
  },
  {
   "cell_type": "code",
   "execution_count": 5,
   "metadata": {},
   "outputs": [
    {
     "data": {
      "text/html": [
       "<div>\n",
       "<style scoped>\n",
       "    .dataframe tbody tr th:only-of-type {\n",
       "        vertical-align: middle;\n",
       "    }\n",
       "\n",
       "    .dataframe tbody tr th {\n",
       "        vertical-align: top;\n",
       "    }\n",
       "\n",
       "    .dataframe thead th {\n",
       "        text-align: right;\n",
       "    }\n",
       "</style>\n",
       "<table border=\"1\" class=\"dataframe\">\n",
       "  <thead>\n",
       "    <tr style=\"text-align: right;\">\n",
       "      <th></th>\n",
       "      <th>date</th>\n",
       "      <th>gw</th>\n",
       "      <th>name</th>\n",
       "    </tr>\n",
       "  </thead>\n",
       "  <tbody>\n",
       "    <tr>\n",
       "      <th>0</th>\n",
       "      <td>2018-10-17 03:00:00</td>\n",
       "      <td>3024.0</td>\n",
       "      <td>AZPS</td>\n",
       "    </tr>\n",
       "    <tr>\n",
       "      <th>1</th>\n",
       "      <td>2018-10-17 02:00:00</td>\n",
       "      <td>3065.0</td>\n",
       "      <td>AZPS</td>\n",
       "    </tr>\n",
       "    <tr>\n",
       "      <th>2</th>\n",
       "      <td>2018-10-17 01:00:00</td>\n",
       "      <td>2905.0</td>\n",
       "      <td>AZPS</td>\n",
       "    </tr>\n",
       "    <tr>\n",
       "      <th>3</th>\n",
       "      <td>2018-10-17 00:00:00</td>\n",
       "      <td>2731.0</td>\n",
       "      <td>AZPS</td>\n",
       "    </tr>\n",
       "    <tr>\n",
       "      <th>4</th>\n",
       "      <td>2018-10-16 23:00:00</td>\n",
       "      <td>2592.0</td>\n",
       "      <td>AZPS</td>\n",
       "    </tr>\n",
       "  </tbody>\n",
       "</table>\n",
       "</div>"
      ],
      "text/plain": [
       "                 date      gw  name\n",
       "0 2018-10-17 03:00:00  3024.0  AZPS\n",
       "1 2018-10-17 02:00:00  3065.0  AZPS\n",
       "2 2018-10-17 01:00:00  2905.0  AZPS\n",
       "3 2018-10-17 00:00:00  2731.0  AZPS\n",
       "4 2018-10-16 23:00:00  2592.0  AZPS"
      ]
     },
     "execution_count": 5,
     "metadata": {},
     "output_type": "execute_result"
    }
   ],
   "source": [
    "grid_df.head()"
   ]
  },
  {
   "cell_type": "code",
   "execution_count": null,
   "metadata": {},
   "outputs": [],
   "source": []
  }
 ],
 "metadata": {
  "kernelspec": {
   "display_name": "Python 3",
   "language": "python",
   "name": "python3"
  },
  "language_info": {
   "codemirror_mode": {
    "name": "ipython",
    "version": 3
   },
   "file_extension": ".py",
   "mimetype": "text/x-python",
   "name": "python",
   "nbconvert_exporter": "python",
   "pygments_lexer": "ipython3",
   "version": "3.6.4"
  }
 },
 "nbformat": 4,
 "nbformat_minor": 2
}
