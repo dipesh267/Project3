{
 "cells": [
  {
   "cell_type": "code",
   "execution_count": 8,
   "metadata": {},
   "outputs": [],
   "source": [
    "# Dependencies\n",
    "import requests\n",
    "import pandas as pd\n",
    "from pprint import pprint\n",
    "\n",
    "from datetime import datetime"
   ]
  },
  {
   "cell_type": "code",
   "execution_count": 9,
   "metadata": {
    "scrolled": false
   },
   "outputs": [],
   "source": [
    "stations = ['AZPS']\n",
    "responses = []\n",
    "grid_df = pd.DataFrame()\n",
    "for station in stations:\n",
    "    url = \"http://api.eia.gov/series/?api_key=b2416f9351f1bc487d7de96e1a731aab&series_id=EBA.\"+station+\"-ALL.D.H\"\n",
    "    api_call = requests.get(url)\n",
    "    responses.append(api_call.json())\n",
    "\n"
   ]
  },
  {
   "cell_type": "code",
   "execution_count": 10,
   "metadata": {},
   "outputs": [
    {
     "data": {
      "text/html": [
       "<div>\n",
       "<style scoped>\n",
       "    .dataframe tbody tr th:only-of-type {\n",
       "        vertical-align: middle;\n",
       "    }\n",
       "\n",
       "    .dataframe tbody tr th {\n",
       "        vertical-align: top;\n",
       "    }\n",
       "\n",
       "    .dataframe thead th {\n",
       "        text-align: right;\n",
       "    }\n",
       "</style>\n",
       "<table border=\"1\" class=\"dataframe\">\n",
       "  <thead>\n",
       "    <tr style=\"text-align: right;\">\n",
       "      <th></th>\n",
       "      <th>date</th>\n",
       "      <th>gw</th>\n",
       "      <th>name</th>\n",
       "    </tr>\n",
       "  </thead>\n",
       "  <tbody>\n",
       "    <tr>\n",
       "      <th>0</th>\n",
       "      <td>20181016T21Z</td>\n",
       "      <td>2511.0</td>\n",
       "      <td>AZPS</td>\n",
       "    </tr>\n",
       "    <tr>\n",
       "      <th>1</th>\n",
       "      <td>20181016T20Z</td>\n",
       "      <td>2506.0</td>\n",
       "      <td>AZPS</td>\n",
       "    </tr>\n",
       "    <tr>\n",
       "      <th>2</th>\n",
       "      <td>20181016T19Z</td>\n",
       "      <td>2546.0</td>\n",
       "      <td>AZPS</td>\n",
       "    </tr>\n",
       "    <tr>\n",
       "      <th>3</th>\n",
       "      <td>20181016T18Z</td>\n",
       "      <td>2578.0</td>\n",
       "      <td>AZPS</td>\n",
       "    </tr>\n",
       "    <tr>\n",
       "      <th>4</th>\n",
       "      <td>20181016T17Z</td>\n",
       "      <td>2651.0</td>\n",
       "      <td>AZPS</td>\n",
       "    </tr>\n",
       "  </tbody>\n",
       "</table>\n",
       "</div>"
      ],
      "text/plain": [
       "           date      gw  name\n",
       "0  20181016T21Z  2511.0  AZPS\n",
       "1  20181016T20Z  2506.0  AZPS\n",
       "2  20181016T19Z  2546.0  AZPS\n",
       "3  20181016T18Z  2578.0  AZPS\n",
       "4  20181016T17Z  2651.0  AZPS"
      ]
     },
     "execution_count": 10,
     "metadata": {},
     "output_type": "execute_result"
    }
   ],
   "source": [
    "name_list = []\n",
    "date_list = []\n",
    "mg_list = []\n",
    "    \n",
    "for response in responses:\n",
    "    name = response['series'][0]['series_id'] #name is format blah.name-blah.blah.blah\n",
    "    names = name.split('-')  #names is ['blah.name','blah.blah.blah']\n",
    "    name = names[0].split('.')[1] \n",
    "    demand_list = response['series'][0]['data']\n",
    "    for demand in demand_list:\n",
    "        if demand[0] != '' and demand[1] != '':\n",
    "            name_list.append(name)\n",
    "            date_list.append(demand[0])\n",
    "            mg_list.append(demand[1])\n",
    "\n",
    "grid_df = pd.DataFrame({\n",
    "    'name': name_list,\n",
    "    'date': date_list,\n",
    "    'gw': mg_list\n",
    "})\n",
    "\n",
    "grid_df.head()"
   ]
  },
  {
   "cell_type": "code",
   "execution_count": 11,
   "metadata": {},
   "outputs": [],
   "source": [
    "grid_df['date'] = pd.to_datetime(grid_df['date'])"
   ]
  },
  {
   "cell_type": "code",
   "execution_count": 12,
   "metadata": {},
   "outputs": [
    {
     "data": {
      "text/html": [
       "<div>\n",
       "<style scoped>\n",
       "    .dataframe tbody tr th:only-of-type {\n",
       "        vertical-align: middle;\n",
       "    }\n",
       "\n",
       "    .dataframe tbody tr th {\n",
       "        vertical-align: top;\n",
       "    }\n",
       "\n",
       "    .dataframe thead th {\n",
       "        text-align: right;\n",
       "    }\n",
       "</style>\n",
       "<table border=\"1\" class=\"dataframe\">\n",
       "  <thead>\n",
       "    <tr style=\"text-align: right;\">\n",
       "      <th></th>\n",
       "      <th>date</th>\n",
       "      <th>gw</th>\n",
       "      <th>name</th>\n",
       "    </tr>\n",
       "  </thead>\n",
       "  <tbody>\n",
       "    <tr>\n",
       "      <th>0</th>\n",
       "      <td>2018-10-16 21:00:00</td>\n",
       "      <td>2511.0</td>\n",
       "      <td>AZPS</td>\n",
       "    </tr>\n",
       "    <tr>\n",
       "      <th>1</th>\n",
       "      <td>2018-10-16 20:00:00</td>\n",
       "      <td>2506.0</td>\n",
       "      <td>AZPS</td>\n",
       "    </tr>\n",
       "    <tr>\n",
       "      <th>2</th>\n",
       "      <td>2018-10-16 19:00:00</td>\n",
       "      <td>2546.0</td>\n",
       "      <td>AZPS</td>\n",
       "    </tr>\n",
       "    <tr>\n",
       "      <th>3</th>\n",
       "      <td>2018-10-16 18:00:00</td>\n",
       "      <td>2578.0</td>\n",
       "      <td>AZPS</td>\n",
       "    </tr>\n",
       "    <tr>\n",
       "      <th>4</th>\n",
       "      <td>2018-10-16 17:00:00</td>\n",
       "      <td>2651.0</td>\n",
       "      <td>AZPS</td>\n",
       "    </tr>\n",
       "  </tbody>\n",
       "</table>\n",
       "</div>"
      ],
      "text/plain": [
       "                 date      gw  name\n",
       "0 2018-10-16 21:00:00  2511.0  AZPS\n",
       "1 2018-10-16 20:00:00  2506.0  AZPS\n",
       "2 2018-10-16 19:00:00  2546.0  AZPS\n",
       "3 2018-10-16 18:00:00  2578.0  AZPS\n",
       "4 2018-10-16 17:00:00  2651.0  AZPS"
      ]
     },
     "execution_count": 12,
     "metadata": {},
     "output_type": "execute_result"
    }
   ],
   "source": [
    "grid_df.head()"
   ]
  },
  {
   "cell_type": "code",
   "execution_count": null,
   "metadata": {},
   "outputs": [],
   "source": []
  }
 ],
 "metadata": {
  "kernelspec": {
   "display_name": "Python 3",
   "language": "python",
   "name": "python3"
  },
  "language_info": {
   "codemirror_mode": {
    "name": "ipython",
    "version": 3
   },
   "file_extension": ".py",
   "mimetype": "text/x-python",
   "name": "python",
   "nbconvert_exporter": "python",
   "pygments_lexer": "ipython3",
   "version": "3.6.4"
  }
 },
 "nbformat": 4,
 "nbformat_minor": 2
}
